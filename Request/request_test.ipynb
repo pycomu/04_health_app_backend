{
 "cells": [
  {
   "cell_type": "markdown",
   "source": [
    "https://www.youtube.com/watch?v=tb8gHvYlCFs"
   ],
   "metadata": {}
  },
  {
   "cell_type": "code",
   "execution_count": 2,
   "source": [
    "import requests"
   ],
   "outputs": [],
   "metadata": {}
  },
  {
   "cell_type": "code",
   "execution_count": 5,
   "source": [
    "r = requests.get(\"https://httpbin.org\")\r\n",
    "print('Status Code:')\r\n",
    "print(r.status_code)"
   ],
   "outputs": [
    {
     "output_type": "stream",
     "name": "stdout",
     "text": [
      "Status Code:\n",
      "200\n"
     ]
    }
   ],
   "metadata": {}
  },
  {
   "cell_type": "code",
   "execution_count": 6,
   "source": [
    "print('Headers')\r\n",
    "print(r.headers)"
   ],
   "outputs": [
    {
     "output_type": "stream",
     "name": "stdout",
     "text": [
      "Headers\n",
      "{'Date': 'Tue, 03 Aug 2021 21:44:05 GMT', 'Content-Type': 'text/html; charset=utf-8', 'Content-Length': '9593', 'Connection': 'keep-alive', 'Server': 'gunicorn/19.9.0', 'Access-Control-Allow-Origin': '*', 'Access-Control-Allow-Credentials': 'true'}\n"
     ]
    }
   ],
   "metadata": {}
  },
  {
   "cell_type": "code",
   "execution_count": null,
   "source": [
    "print (r.text)"
   ],
   "outputs": [],
   "metadata": {}
  },
  {
   "cell_type": "code",
   "execution_count": null,
   "source": [
    "print (r.content)"
   ],
   "outputs": [],
   "metadata": {}
  },
  {
   "cell_type": "markdown",
   "source": [
    "<H2>Parameter an eine URL übergeben\r\n",
    "\r\n",
    "Als Beispiel nehmen wir einmal an, dass du data=100 und action=learning an httpbin.org/get übergeben willst. Dazu benutzt du den folgenden Code.\r\n",
    "\r\n",
    "Um die erzeugte URL anzeigen zu lassen, benutzt du einfach wieder die print Funktion und kannst direkt sehen, ob deine URL richtig erzeugt wurde."
   ],
   "metadata": {}
  },
  {
   "cell_type": "code",
   "execution_count": 10,
   "source": [
    "payload = {'data':'100','action':'learning'}\r\n",
    "r = requests.get(\"http://httpbin.org/get\", params=payload)\r\n",
    "\r\n",
    "print(r.url)"
   ],
   "outputs": [
    {
     "output_type": "stream",
     "name": "stdout",
     "text": [
      "http://httpbin.org/get?data=100&action=learning\n"
     ]
    }
   ],
   "metadata": {}
  },
  {
   "cell_type": "code",
   "execution_count": 12,
   "source": [
    "print(r.text)"
   ],
   "outputs": [
    {
     "output_type": "stream",
     "name": "stdout",
     "text": [
      "{\n",
      "  \"args\": {\n",
      "    \"action\": \"learning\", \n",
      "    \"data\": \"100\"\n",
      "  }, \n",
      "  \"headers\": {\n",
      "    \"Accept\": \"*/*\", \n",
      "    \"Accept-Encoding\": \"gzip, deflate\", \n",
      "    \"Host\": \"httpbin.org\", \n",
      "    \"User-Agent\": \"python-requests/2.25.1\", \n",
      "    \"X-Amzn-Trace-Id\": \"Root=1-6109b9af-11b5aa8e47bc72895730289d\"\n",
      "  }, \n",
      "  \"origin\": \"62.216.205.41\", \n",
      "  \"url\": \"http://httpbin.org/get?data=100&action=learning\"\n",
      "}\n",
      "\n"
     ]
    }
   ],
   "metadata": {}
  },
  {
   "cell_type": "markdown",
   "source": [
    "<H2>Benutzen der POST Request\r\n",
    "\r\n",
    "POST Request ist die Methode, die am häufigsten genutzt wird, um Daten in einer spezifischen Form an einen Server zu senden oder diesen zu aktualisieren. \r\n",
    "Um deine Daten zu senden, erstellst du ein Dictionary namens 'pload' und dein Argument wird dann als Beitrag der POST Request gesendet. Probiere es einmal mit dem folgende Code aus:"
   ],
   "metadata": {}
  },
  {
   "cell_type": "code",
   "execution_count": 21,
   "source": [
    "pload = {'username':'Nina','password':'123'}\r\n",
    "r = requests.post(\"https://httpbin.org/post\", data=pload)\r\n",
    "print(r.text)"
   ],
   "outputs": [
    {
     "output_type": "stream",
     "name": "stdout",
     "text": [
      "{\n",
      "  \"args\": {}, \n",
      "  \"data\": \"\", \n",
      "  \"files\": {}, \n",
      "  \"form\": {\n",
      "    \"password\": \"123\", \n",
      "    \"username\": \"Nina\"\n",
      "  }, \n",
      "  \"headers\": {\n",
      "    \"Accept\": \"*/*\", \n",
      "    \"Accept-Encoding\": \"gzip, deflate\", \n",
      "    \"Content-Length\": \"26\", \n",
      "    \"Content-Type\": \"application/x-www-form-urlencoded\", \n",
      "    \"Host\": \"httpbin.org\", \n",
      "    \"User-Agent\": \"python-requests/2.25.1\", \n",
      "    \"X-Amzn-Trace-Id\": \"Root=1-6109c11a-063c76c527412c6e7938c131\"\n",
      "  }, \n",
      "  \"json\": null, \n",
      "  \"origin\": \"62.216.205.41\", \n",
      "  \"url\": \"https://httpbin.org/post\"\n",
      "}\n",
      "\n"
     ]
    }
   ],
   "metadata": {}
  },
  {
   "cell_type": "code",
   "execution_count": 22,
   "source": [
    "print(r.json())"
   ],
   "outputs": [
    {
     "output_type": "stream",
     "name": "stdout",
     "text": [
      "{'args': {}, 'data': '', 'files': {}, 'form': {'password': '123', 'username': 'Nina'}, 'headers': {'Accept': '*/*', 'Accept-Encoding': 'gzip, deflate', 'Content-Length': '26', 'Content-Type': 'application/x-www-form-urlencoded', 'Host': 'httpbin.org', 'User-Agent': 'python-requests/2.25.1', 'X-Amzn-Trace-Id': 'Root=1-6109c11a-063c76c527412c6e7938c131'}, 'json': None, 'origin': '62.216.205.41', 'url': 'https://httpbin.org/post'}\n"
     ]
    }
   ],
   "metadata": {}
  },
  {
   "cell_type": "markdown",
   "source": [
    "<H2>Deine JSON Daten im Python Dictionary kannst du als Variable speichern, um damit dann dynamischere Operation durchzuführen. Schau dir dazu den folgenden Code an:"
   ],
   "metadata": {}
  },
  {
   "cell_type": "code",
   "execution_count": 23,
   "source": [
    "r_dictionary = r.json()\r\n",
    "print(r_dictionary['form'])"
   ],
   "outputs": [
    {
     "output_type": "stream",
     "name": "stdout",
     "text": [
      "{'password': '123', 'username': 'Nina'}\n"
     ]
    }
   ],
   "metadata": {}
  },
  {
   "cell_type": "markdown",
   "source": [
    "<H2>Ein Bild runterladen und speichern:"
   ],
   "metadata": {}
  },
  {
   "cell_type": "code",
   "execution_count": 20,
   "source": [
    "r = requests.get(\"http://httpbin.org/image/jpeg\")\r\n",
    "with open (\"picture_download.jpg\",\"wb\") as f:\r\n",
    "    f.write(r.content)"
   ],
   "outputs": [],
   "metadata": {}
  },
  {
   "cell_type": "markdown",
   "source": [
    "<H2>Testen für eine Identifikation mit User und PW:"
   ],
   "metadata": {}
  },
  {
   "cell_type": "code",
   "execution_count": 26,
   "source": [
    "r = requests.get(\"http://httpbin.org/basic-auth/Nina/123\", auth = (\"Nina\",\"123\"), timeout=3)\r\n",
    "print(r)\r\n",
    "print(r.text)"
   ],
   "outputs": [
    {
     "output_type": "stream",
     "name": "stdout",
     "text": [
      "<Response [200]>\n",
      "{\n",
      "  \"authenticated\": true, \n",
      "  \"user\": \"Nina\"\n",
      "}\n",
      "\n"
     ]
    }
   ],
   "metadata": {}
  }
 ],
 "metadata": {
  "orig_nbformat": 4,
  "language_info": {
   "name": "python",
   "version": "3.9.1",
   "mimetype": "text/x-python",
   "codemirror_mode": {
    "name": "ipython",
    "version": 3
   },
   "pygments_lexer": "ipython3",
   "nbconvert_exporter": "python",
   "file_extension": ".py"
  },
  "kernelspec": {
   "name": "python3",
   "display_name": "Python 3.9.1 64-bit"
  },
  "interpreter": {
   "hash": "eecb9c2779395b1a28285d6cdcac86786d591e517b43ba2c204f185d8541e3a6"
  }
 },
 "nbformat": 4,
 "nbformat_minor": 2
}