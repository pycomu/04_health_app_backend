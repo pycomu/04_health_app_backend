{
 "cells": [
  {
   "cell_type": "code",
   "execution_count": 1,
   "metadata": {},
   "outputs": [],
   "source": [
    "import pandas as pd"
   ]
  },
  {
   "cell_type": "code",
   "execution_count": 3,
   "metadata": {},
   "outputs": [
    {
     "name": "stdout",
     "output_type": "stream",
     "text": [
      "     Age_months         3         5        10        25        50        75  \\\n",
      "0          24.0  14.52095  14.73732  15.09033  15.74164  16.57503  17.55719   \n",
      "1          24.5  14.50348  14.71929  15.07117  15.71963  16.54777  17.52129   \n",
      "2          25.5  14.46882  14.68361  15.03336  15.67634  16.49443  17.45135   \n",
      "3          26.5  14.43460  14.64843  14.99620  15.63403  16.44260  17.38384   \n",
      "4          27.5  14.40083  14.61379  14.95969  15.59268  16.39224  17.31871   \n",
      "..          ...       ...       ...       ...       ...       ...       ...   \n",
      "215       238.5  18.65861  19.07484  19.77060  21.11296  22.95626  25.34459   \n",
      "216       239.5  18.68822  19.10551  19.80312  21.14946  22.99908  25.39725   \n",
      "217       240.0  18.70274  19.12055  19.81910  21.16745  23.02029  25.42353   \n",
      "218       240.5  18.71706  19.13540  19.83489  21.18526  23.04138  25.44978   \n",
      "219       999.0   3.00000   5.00000  10.00000  25.00000  50.00000  75.00000   \n",
      "\n",
      "           85        90        95        97  \n",
      "0    18.16219  18.60948  19.33801  19.85986  \n",
      "1    18.11955  18.56111  19.27890  19.79194  \n",
      "2    18.03668  18.46730  19.16466  19.66102  \n",
      "3    17.95700  18.37736  19.05567  19.53658  \n",
      "4    17.88047  18.29125  18.95187  19.41849  \n",
      "..        ...       ...       ...       ...  \n",
      "215  26.95530  28.22650  30.46758  32.22457  \n",
      "216  27.01575  28.29381  30.54859  32.31787  \n",
      "217  27.04607  28.32770  30.58964  32.36537  \n",
      "218  27.07645  28.36174  30.63106  32.41344  \n",
      "219  85.00000  90.00000  95.00000  97.00000  \n",
      "\n",
      "[220 rows x 11 columns]\n"
     ]
    }
   ],
   "source": [
    "#load dataframe from csv\n",
    "df_m = pd.read_csv(\"bmi_age_male.csv\", delimiter=',')\n",
    "\n",
    "print(df_m)"
   ]
  },
  {
   "cell_type": "code",
   "execution_count": 5,
   "metadata": {},
   "outputs": [
    {
     "name": "stdout",
     "output_type": "stream",
     "text": [
      "child_age was  144  -> means cluster of  144.5  at index  121\n",
      "child_bmi  21.3\n",
      "bmi_min  21.02386 bmi_max  22.1329\n",
      "p_min  85.0 p_max  90.0\n",
      "the male percentile is  86 %\n"
     ]
    }
   ],
   "source": [
    "child_age = 144\n",
    "child_bmi = 21.3\n",
    "\n",
    "y =0\n",
    "for age in df_m['Age_months']:\n",
    "    if age > child_age:\n",
    "        print(\"child_age was \",child_age, \" -> means cluster of \",age, \" at index \", y)\n",
    "        \n",
    "        for colomn in range(1,11):\n",
    "    \n",
    "            if df_m.iat[y,colomn] > child_bmi:\n",
    "            \n",
    "                bmi_min = df_m.iat[y,colomn-1]\n",
    "                bmi_max = df_m.iat[y,colomn]\n",
    "\n",
    "                p_max = df_m.iat[219,colomn]\n",
    "                p_min = df_m.iat[219,colomn-1]\n",
    "\n",
    "                p_child = round((p_max-p_min) * (child_bmi-bmi_min) / (bmi_max-bmi_min) +p_min)\n",
    "                \n",
    "                print(\"child_bmi \",child_bmi)\n",
    "                print(\"bmi_min \",bmi_min, \"bmi_max \", bmi_max)\n",
    "                print(\"p_min \", p_min , \"p_max \",p_max)\n",
    "                print(\"the male percentile is \",p_child,\"%\")\n",
    "                break\n",
    "\n",
    "        break\n",
    "    y += 1"
   ]
  },
  {
   "cell_type": "code",
   "execution_count": 6,
   "metadata": {},
   "outputs": [
    {
     "name": "stdout",
     "output_type": "stream",
     "text": [
      "     Age_months         3         5        10        25        50        75  \\\n",
      "0          24.0  14.14735  14.39787  14.80134  15.52808  16.42340  17.42746   \n",
      "1          24.5  14.13226  14.38019  14.77965  15.49976  16.38804  17.38582   \n",
      "2          25.5  14.10241  14.34527  14.73695  15.44422  16.31897  17.30485   \n",
      "3          26.5  14.07297  14.31097  14.69516  15.39015  16.25208  17.22693   \n",
      "4          27.5  14.04396  14.27728  14.65429  15.33754  16.18735  17.15202   \n",
      "..          ...       ...       ...       ...       ...       ...       ...   \n",
      "215       238.5  17.43427  17.82259  18.48182  19.79420  21.70108  24.40686   \n",
      "216       239.5  17.43199  17.82127  18.48223  19.79846  21.71189  24.42910   \n",
      "217       240.0  17.43031  17.82009  18.48196  19.80018  21.71700  24.44010   \n",
      "218       240.5  17.42827  17.81856  18.48136  19.80162  21.72191  24.45101   \n",
      "219       999.0   3.00000   5.00000  10.00000  25.00000  50.00000  75.00000   \n",
      "\n",
      "           85        90        95        97  \n",
      "0    18.01821  18.44139  19.10624  19.56411  \n",
      "1    17.97371  18.39526  19.05824  19.51534  \n",
      "2    17.88749  18.30611  18.96595  19.42198  \n",
      "3    17.80489  18.22103  18.87853  19.33410  \n",
      "4    17.72586  18.13997  18.79591  19.25163  \n",
      "..        ...       ...       ...       ...  \n",
      "215  26.42984  28.17291  31.66324  34.91250  \n",
      "216  26.46243  28.21574  31.73069  35.00831  \n",
      "217  26.47872  28.23727  31.76474  35.05675  \n",
      "218  26.49502  28.25888  31.79903  35.10556  \n",
      "219  85.00000  90.00000  95.00000  97.00000  \n",
      "\n",
      "[220 rows x 11 columns]\n"
     ]
    }
   ],
   "source": [
    "#load dataframe from csv\n",
    "df_f = pd.read_csv(\"bmi_age_female.csv\", delimiter=',')\n",
    "\n",
    "print(df_f)"
   ]
  },
  {
   "cell_type": "code",
   "execution_count": 7,
   "metadata": {},
   "outputs": [
    {
     "name": "stdout",
     "output_type": "stream",
     "text": [
      "child_age was  144  -> means cluster of  144.5  at index  121\n",
      "child_bmi  21.3\n",
      "bmi_min  20.23648 bmi_max  21.74263\n",
      "p_min  75.0 p_max  85.0\n",
      "the female percentile is  82 %\n"
     ]
    }
   ],
   "source": [
    "child_age = 144\n",
    "child_bmi = 21.3\n",
    "\n",
    "y =0\n",
    "for age in df_f['Age_months']:\n",
    "    if age > child_age:\n",
    "        print(\"child_age was \",child_age, \" -> means cluster of \",age, \" at index \", y)\n",
    "        \n",
    "        for colomn in range(1,11):\n",
    "    \n",
    "            if df_f.iat[y,colomn] > child_bmi:\n",
    "            \n",
    "                bmi_min = df_f.iat[y,colomn-1]\n",
    "                bmi_max = df_f.iat[y,colomn]\n",
    "\n",
    "                p_max = df_f.iat[219,colomn]\n",
    "                p_min = df_f.iat[219,colomn-1]\n",
    "\n",
    "                p_child = round((p_max-p_min) * (child_bmi-bmi_min) / (bmi_max-bmi_min) +p_min)\n",
    "                \n",
    "                print(\"child_bmi \",child_bmi)\n",
    "                print(\"bmi_min \",bmi_min, \"bmi_max \", bmi_max)\n",
    "                print(\"p_min \", p_min , \"p_max \",p_max)\n",
    "                print(\"the female percentile is \",p_child,\"%\")\n",
    "                break\n",
    "\n",
    "        break\n",
    "    y += 1"
   ]
  }
 ],
 "metadata": {
  "interpreter": {
   "hash": "eecb9c2779395b1a28285d6cdcac86786d591e517b43ba2c204f185d8541e3a6"
  },
  "kernelspec": {
   "display_name": "Python 3.9.1 64-bit",
   "language": "python",
   "name": "python3"
  },
  "language_info": {
   "codemirror_mode": {
    "name": "ipython",
    "version": 3
   },
   "file_extension": ".py",
   "mimetype": "text/x-python",
   "name": "python",
   "nbconvert_exporter": "python",
   "pygments_lexer": "ipython3",
   "version": "3.9.1"
  },
  "orig_nbformat": 4
 },
 "nbformat": 4,
 "nbformat_minor": 2
}
